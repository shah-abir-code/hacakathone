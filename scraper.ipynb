{
 "cells": [
  {
   "cell_type": "code",
   "execution_count": 1,
   "id": "c88e449e-d1a4-434f-8960-0a545c50b997",
   "metadata": {},
   "outputs": [
    {
     "name": "stdin",
     "output_type": "stream",
     "text": [
      "Enter job:  python\n"
     ]
    },
    {
     "name": "stdout",
     "output_type": "stream",
     "text": [
      "Scrapping indeed......\n",
      "Scrapping rozee......\n",
      "no jobs found\n"
     ]
    }
   ],
   "source": [
    "import requests\n",
    "from bs4 import BeautifulSoup\n",
    "import csv\n",
    "\n",
    "def scrape_indeed(keyword='python'):\n",
    "    print('Scrapping indeed......')\n",
    "    url='https://pk.indeed.com/jobs?q=keyword'\n",
    "    headers = {'user-agent':'Mozilla/5.0 (Windows NT 10.0; Win64; x64) AppleWebKit/537.36 (KHTML, like Gecko) Chrome/136.0.0.0 Safari/537.36'}\n",
    "    response = requests.get(url,headers=headers)\n",
    "    soup = BeautifulSoup(response.text,'html.parser')\n",
    "    jobs=[]\n",
    "    cards = soup.find_all('div',class_='job_seen_beacon')\n",
    "    \n",
    "    for card in cards:\n",
    "        title = card.find('h2').text.strip()\n",
    "        company = card.find('span',class_='companyName').text.strip()\n",
    "        location = card.find('div', class_='companyLocation').text.strip()\n",
    "        date = card.find('span', class_='date').text.strip()\n",
    "        skills = N/A\n",
    "        \n",
    "\n",
    "        jobs.append({\n",
    "            'Title':title,\n",
    "            'Company':company,\n",
    "            'location':location,\n",
    "            'Date':date,\n",
    "            'Skills':skills\n",
    "        })\n",
    "    return jobs\n",
    "\n",
    "def scrape_rozee(keyword='python'):\n",
    "    print('Scrapping rozee......')\n",
    "    url=f'https://www.rozee.pk/job/jsearch/q/{keyword}'\n",
    "    headers = {'user-agent':'Mozilla/5.0'}\n",
    "    response = requests.get(url,headers=headers)\n",
    "    soup = BeautifulSoup(response.text,'html.parser')\n",
    "    jobs=[]\n",
    "    cards = soup.find_all('div',class_='job_seen_beacon')\n",
    "    \n",
    "    for card in cards:\n",
    "        title = card.find('h3').text.strip()\n",
    "        company = card.find('span',class_='companyName').text.strip()\n",
    "        location = card.find('div', class_='companylocation').text.strip()\n",
    "        date = card.find('span', class_='date').text.strip()\n",
    "        skills = card.find('span', class_='skills').text.strip()\n",
    "        \n",
    "\n",
    "        jobs.append({\n",
    "            'Title':title,\n",
    "            'Company':company,\n",
    "            'location':location if location else N/A,\n",
    "            'Date':date,\n",
    "            'Skills':skills if skills else N/A\n",
    "        })\n",
    "    \n",
    "\n",
    "    return jobs\n",
    "\n",
    "def save_csv(data, filename='jobs.csv'):\n",
    "    keys = data[0].keys()\n",
    "    with open(filename, 'w', newline = '', encoding='utf-8') as f:\n",
    "        writer = csv.DictWriter(f, fieldnames=keys)\n",
    "        writer.writeheader()\n",
    "        writer.writerows(data)\n",
    "\n",
    "if __name__=='__main__':\n",
    "    keyword = input('Enter job: ')\n",
    "    indeed_jobs = scrape_indeed(keyword)\n",
    "    rozee_jobs = scrape_rozee(keyword)\n",
    "    all_jobs = rozee_jobs+indeed_jobs\n",
    "    if all_jobs:\n",
    "        save_csv(all_jobs)\n",
    "        print(f'{len(all_jobs)} jobs saved jobs.csv')\n",
    "    else:\n",
    "        print('no jobs found')\n",
    "\n"
   ]
  },
  {
   "cell_type": "code",
   "execution_count": 11,
   "id": "5f60504a-c3a8-45b8-b0c7-7f510ebe6374",
   "metadata": {},
   "outputs": [],
   "source": [
    "def scraper(keyword:str):\n",
    "    indeed_jobs = scrape_indeed(keyword)\n",
    "    rozee_jobs = scrape_rozee(keyword)\n",
    "    all_jobs = rozee_jobs+indeed_jobs\n",
    "    if all_jobs:\n",
    "        save_csv(all_jobs)\n",
    "        print(f'{len(all_jobs)} jobs saved jobs.csv')\n",
    "    else:\n",
    "        print('no jobs found')\n",
    "    \n",
    "    "
   ]
  },
  {
   "cell_type": "code",
   "execution_count": 7,
   "id": "303a9c6d-3414-40a8-a011-bcdc1ca54bdb",
   "metadata": {},
   "outputs": [
    {
     "name": "stdout",
     "output_type": "stream",
     "text": [
      "Scrapping indeed......\n",
      "[]\n"
     ]
    }
   ],
   "source": [
    "print(scrape_indeed())"
   ]
  },
  {
   "cell_type": "code",
   "execution_count": 9,
   "id": "118aad6c-e055-467e-a31b-d0ff18e7c91b",
   "metadata": {},
   "outputs": [
    {
     "name": "stdout",
     "output_type": "stream",
     "text": [
      "Scrapping rozee......\n"
     ]
    },
    {
     "data": {
      "text/plain": [
       "[]"
      ]
     },
     "execution_count": 9,
     "metadata": {},
     "output_type": "execute_result"
    }
   ],
   "source": [
    "scrape_rozee()"
   ]
  },
  {
   "cell_type": "code",
   "execution_count": null,
   "id": "5bf54a03-482e-4211-9ce5-a95b420e8e0f",
   "metadata": {},
   "outputs": [],
   "source": []
  },
  {
   "cell_type": "code",
   "execution_count": 33,
   "id": "3d7d92a5-d173-49ef-b2cd-2085e80d0a76",
   "metadata": {},
   "outputs": [
    {
     "ename": "ModuleNotFoundError",
     "evalue": "No module named 'gradio'",
     "output_type": "error",
     "traceback": [
      "\u001b[1;31m---------------------------------------------------------------------------\u001b[0m",
      "\u001b[1;31mModuleNotFoundError\u001b[0m                       Traceback (most recent call last)",
      "Cell \u001b[1;32mIn[33], line 1\u001b[0m\n\u001b[1;32m----> 1\u001b[0m \u001b[38;5;28;01mimport\u001b[39;00m \u001b[38;5;21;01mgradio\u001b[39;00m \u001b[38;5;28;01mas\u001b[39;00m \u001b[38;5;21;01mgr\u001b[39;00m\n",
      "\u001b[1;31mModuleNotFoundError\u001b[0m: No module named 'gradio'"
     ]
    }
   ],
   "source": [
    "import gradio as gr"
   ]
  },
  {
   "cell_type": "code",
   "execution_count": null,
   "id": "bdc0299a-c781-4ef9-9961-57e9702c25ac",
   "metadata": {},
   "outputs": [],
   "source": []
  },
  {
   "cell_type": "code",
   "execution_count": null,
   "id": "0ed84d45-ec06-42ee-80f4-835229cd3b24",
   "metadata": {},
   "outputs": [],
   "source": [
    "\n",
    "\n"
   ]
  },
  {
   "cell_type": "code",
   "execution_count": null,
   "id": "2d5858a3-4d09-433b-982d-556af67a0691",
   "metadata": {},
   "outputs": [],
   "source": []
  },
  {
   "cell_type": "code",
   "execution_count": null,
   "id": "62d4d317-ae07-4e63-be44-ac51390accda",
   "metadata": {},
   "outputs": [],
   "source": []
  }
 ],
 "metadata": {
  "kernelspec": {
   "display_name": "Python 3 (ipykernel)",
   "language": "python",
   "name": "python3"
  },
  "language_info": {
   "codemirror_mode": {
    "name": "ipython",
    "version": 3
   },
   "file_extension": ".py",
   "mimetype": "text/x-python",
   "name": "python",
   "nbconvert_exporter": "python",
   "pygments_lexer": "ipython3",
   "version": "3.12.7"
  }
 },
 "nbformat": 4,
 "nbformat_minor": 5
}
