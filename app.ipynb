{
 "cells": [
  {
   "cell_type": "code",
   "execution_count": 9,
   "id": "8155ab25-5de3-4845-b400-ea6f7c1f055b",
   "metadata": {},
   "outputs": [
    {
     "ename": "NameError",
     "evalue": "name 'df' is not defined",
     "output_type": "error",
     "traceback": [
      "\u001b[1;31m---------------------------------------------------------------------------\u001b[0m",
      "\u001b[1;31mNameError\u001b[0m                                 Traceback (most recent call last)",
      "Cell \u001b[1;32mIn[9], line 18\u001b[0m\n\u001b[0;32m     15\u001b[0m     df \u001b[38;5;241m=\u001b[39m df[df[\u001b[38;5;124m'\u001b[39m\u001b[38;5;124mtitle\u001b[39m\u001b[38;5;124m'\u001b[39m]\u001b[38;5;241m.\u001b[39mstr\u001b[38;5;241m.\u001b[39mcontains(keyword,case\u001b[38;5;241m=\u001b[39mfalse)]\n\u001b[0;32m     17\u001b[0m st\u001b[38;5;241m.\u001b[39msubheader(\u001b[38;5;124m'\u001b[39m\u001b[38;5;124mTop 5 companies\u001b[39m\u001b[38;5;124m'\u001b[39m)\n\u001b[1;32m---> 18\u001b[0m st\u001b[38;5;241m.\u001b[39mbar_chart(df[\u001b[38;5;124m'\u001b[39m\u001b[38;5;124mlocation\u001b[39m\u001b[38;5;124m'\u001b[39m]\u001b[38;5;241m.\u001b[39mvalue_counts()\u001b[38;5;241m.\u001b[39mhead(\u001b[38;5;241m5\u001b[39m))\n\u001b[0;32m     20\u001b[0m \u001b[38;5;28;01mif\u001b[39;00m \u001b[38;5;124m'\u001b[39m\u001b[38;5;124mdate\u001b[39m\u001b[38;5;124m'\u001b[39m \u001b[38;5;129;01min\u001b[39;00m df\u001b[38;5;241m.\u001b[39mcolumns:\n\u001b[0;32m     21\u001b[0m     st\u001b[38;5;241m.\u001b[39msubheader(\u001b[38;5;124m'\u001b[39m\u001b[38;5;124mposting trends over time\u001b[39m\u001b[38;5;124m'\u001b[39m)\n",
      "\u001b[1;31mNameError\u001b[0m: name 'df' is not defined"
     ]
    }
   ],
   "source": [
    "import streamlit as st\n",
    "import pandas as pd\n",
    "import matplotlib.pyplot as plt\n",
    "\n",
    "st.set_page_config(layout='wide')\n",
    "st.title('Real-Time Job Trend Analyzer')\n",
    "\n",
    "try:\n",
    "    df=pd.read_csv('jobs.csv')\n",
    "except:\n",
    "    st.error('Please run scraper.py first to collect job data')\n",
    "\n",
    "keywords = st.text_input('Filtered by keywords ','')\n",
    "if keywords:\n",
    "    df = df[df['title'].str.contains(keyword,case=false)]\n",
    "\n",
    "st.subheader('Top 5 companies')\n",
    "st.bar_chart(df['location'].value_counts().head(5))\n",
    "\n",
    "if 'date' in df.columns:\n",
    "    st.subheader('posting trends over time')\n",
    "    date_data = df['date'].value_counts().sort_index()\n",
    "    st.line_chart(date_data)\n",
    "\n",
    "st.markdown(f'**Total Jobs:**{len(df)}')"
   ]
  },
  {
   "cell_type": "code",
   "execution_count": null,
   "id": "6652b367-ee55-497e-b3dc-4b05bc3a3dc4",
   "metadata": {},
   "outputs": [],
   "source": []
  }
 ],
 "metadata": {
  "kernelspec": {
   "display_name": "Python 3 (ipykernel)",
   "language": "python",
   "name": "python3"
  },
  "language_info": {
   "codemirror_mode": {
    "name": "ipython",
    "version": 3
   },
   "file_extension": ".py",
   "mimetype": "text/x-python",
   "name": "python",
   "nbconvert_exporter": "python",
   "pygments_lexer": "ipython3",
   "version": "3.12.7"
  }
 },
 "nbformat": 4,
 "nbformat_minor": 5
}
